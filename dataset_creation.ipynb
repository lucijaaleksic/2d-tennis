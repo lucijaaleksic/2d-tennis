{
 "cells": [
  {
   "cell_type": "code",
   "execution_count": 1,
   "metadata": {},
   "outputs": [],
   "source": [
    "import cv2\n",
    "import os"
   ]
  },
  {
   "cell_type": "code",
   "execution_count": 2,
   "metadata": {},
   "outputs": [],
   "source": [
    "def split_video_to_frames(video_path, output_dir, frame_rate=1):\n",
    "    # Create output directory if it doesn't exist\n",
    "    if not os.path.exists(output_dir):\n",
    "        os.makedirs(output_dir)\n",
    "\n",
    "    # Open the video file\n",
    "    cap = cv2.VideoCapture(video_path)\n",
    "    fps = int(cap.get(cv2.CAP_PROP_FPS))  # Get the original frame rate of the video\n",
    "\n",
    "    # if the output directory is empty start from 0\n",
    "    if len(os.listdir(output_dir)) == 0:\n",
    "        print(\"Output directory is empty, starting from frame 0.\")\n",
    "        saved_frame_count = 0\n",
    "    else:\n",
    "        print(\"Output directory is not empty, starting from the last frame.\", len(os.listdir(output_dir)))\n",
    "        saved_frame_count = len(os.listdir(output_dir))\n",
    "    frame_count = 0\n",
    "\n",
    "    # Iterate through video frames\n",
    "    while cap.isOpened():\n",
    "        ret, frame = cap.read()\n",
    "\n",
    "        if not ret:\n",
    "            break\n",
    "\n",
    "        # Save one frame every \"frame_rate\" seconds\n",
    "        if frame_count % (fps * frame_rate) == 0:\n",
    "            frame_filename = os.path.join(output_dir, f\"frame_{saved_frame_count}.jpg\")\n",
    "            cv2.imwrite(frame_filename, frame)\n",
    "            saved_frame_count += 1\n",
    "\n",
    "        frame_count += 1\n",
    "\n",
    "    cap.release()\n",
    "    print(f\"Extracted {saved_frame_count} frames at {frame_rate} FPS.\")"
   ]
  },
  {
   "cell_type": "code",
   "execution_count": 3,
   "metadata": {},
   "outputs": [
    {
     "name": "stdout",
     "output_type": "stream",
     "text": [
      "Output directory is empty, starting from frame 0.\n",
      "Extracted 43 frames at 1 FPS.\n"
     ]
    }
   ],
   "source": [
    "video_path = \"rallies/tennis_rally2.mp4\"\n",
    "output_dir = \"frames\"\n",
    "split_video_to_frames(video_path, output_dir, frame_rate=1)  # Save 1 frame per second"
   ]
  },
  {
   "cell_type": "code",
   "execution_count": 4,
   "metadata": {},
   "outputs": [
    {
     "name": "stdout",
     "output_type": "stream",
     "text": [
      "Output directory is not empty, starting from the last frame. 43\n",
      "Extracted 56 frames at 1 FPS.\n"
     ]
    }
   ],
   "source": [
    "video_path = \"rallies/tennis_rally3.mp4\"\n",
    "output_dir = \"frames\"\n",
    "split_video_to_frames(video_path, output_dir, frame_rate=1)  # Save 1 frame per second"
   ]
  },
  {
   "cell_type": "code",
   "execution_count": 5,
   "metadata": {},
   "outputs": [
    {
     "name": "stdout",
     "output_type": "stream",
     "text": [
      "Output directory is not empty, starting from the last frame. 56\n",
      "Extracted 178 frames at 1 FPS.\n"
     ]
    }
   ],
   "source": [
    "video_path = \"rallies/tennis_rally4.mp4\"\n",
    "output_dir = \"frames\"\n",
    "split_video_to_frames(video_path, output_dir, frame_rate=1)  # Save 1 frame per second"
   ]
  },
  {
   "cell_type": "code",
   "execution_count": 8,
   "metadata": {},
   "outputs": [
    {
     "name": "stdout",
     "output_type": "stream",
     "text": [
      "Output directory is empty, starting from frame 0.\n",
      "Extracted 37 frames at 1 FPS.\n"
     ]
    }
   ],
   "source": [
    "video_path = \"rallies/tennis_rally.mp4\"\n",
    "output_dir = \"test\"\n",
    "split_video_to_frames(video_path, output_dir, frame_rate=1)  # Save 1 frame per second"
   ]
  },
  {
   "cell_type": "code",
   "execution_count": 7,
   "metadata": {},
   "outputs": [
    {
     "name": "stdout",
     "output_type": "stream",
     "text": [
      "Output directory is not empty, starting from the last frame. 178\n",
      "Extracted 215 frames at 1 FPS.\n"
     ]
    }
   ],
   "source": [
    "video_path = \"rallies/tennis_rally.mp4\"\n",
    "output_dir = \"frames\"\n",
    "split_video_to_frames(video_path, output_dir, frame_rate=1)  # Save 1 frame per second"
   ]
  }
 ],
 "metadata": {
  "kernelspec": {
   "display_name": "torch",
   "language": "python",
   "name": "python3"
  },
  "language_info": {
   "codemirror_mode": {
    "name": "ipython",
    "version": 3
   },
   "file_extension": ".py",
   "mimetype": "text/x-python",
   "name": "python",
   "nbconvert_exporter": "python",
   "pygments_lexer": "ipython3",
   "version": "3.10.13"
  }
 },
 "nbformat": 4,
 "nbformat_minor": 2
}
